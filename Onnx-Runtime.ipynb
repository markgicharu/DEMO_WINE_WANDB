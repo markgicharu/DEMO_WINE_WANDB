{
 "cells": [
  {
   "cell_type": "markdown",
   "metadata": {},
   "source": [
    "# ONNX RUNTIME"
   ]
  },
  {
   "cell_type": "markdown",
   "metadata": {},
   "source": [
    "# QUANTIZE ONNX MODEL"
   ]
  },
  {
   "cell_type": "code",
   "execution_count": 83,
   "metadata": {},
   "outputs": [],
   "source": [
    "from onnxruntime.quantization import quantize_qat, quantize_static, QuantType"
   ]
  },
  {
   "cell_type": "code",
   "execution_count": 84,
   "metadata": {},
   "outputs": [],
   "source": [
    "model_fp32 = \"./models/home_state_test.onnx\"\r\n",
    "model_quant = \"./models/home_state_quant.onnx\"\r\n",
    "\r\n",
    "quantized_model = quantize_qat(model_fp32, model_quant, )\r\n"
   ]
  }
 ],
 "metadata": {
  "kernelspec": {
   "display_name": "Python 3.8.6 64-bit ('torch-venv': venv)",
   "name": "python386jvsc74a57bd0778de6fd147bda85163a324ce7339acfc1c656b45f8b8593316159881a238432"
  },
  "language_info": {
   "name": "python",
   "version": ""
  },
  "orig_nbformat": 4
 },
 "nbformat": 4,
 "nbformat_minor": 2
}