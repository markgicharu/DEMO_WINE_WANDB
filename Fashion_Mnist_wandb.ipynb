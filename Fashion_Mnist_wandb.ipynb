{
 "cells": [
  {
   "cell_type": "markdown",
   "metadata": {},
   "source": [
    "# LIBRARIES"
   ]
  },
  {
   "cell_type": "code",
   "execution_count": 3,
   "metadata": {},
   "outputs": [],
   "source": [
    "import torch\r\n",
    "from torch import nn\r\n",
    "import torch.nn.functional as F\r\n",
    "from torch.utils.data import DataLoader\r\n",
    "from torchvision import datasets\r\n",
    "from torchvision.transforms import ToTensor, Lambda\r\n",
    "from torch import optim\r\n",
    "\r\n",
    "import numpy as np"
   ]
  },
  {
   "cell_type": "code",
   "execution_count": 1,
   "metadata": {},
   "outputs": [
    {
     "name": "stderr",
     "output_type": "stream",
     "text": [
      "Failed to detect the name of this notebook, you can set it manually with the WANDB_NOTEBOOK_NAME environment variable to enable code saving.\n",
      "wandb: Currently logged in as: markgich (use `wandb login --relogin` to force relogin)\n"
     ]
    },
    {
     "data": {
      "text/plain": [
       "True"
      ]
     },
     "execution_count": 1,
     "metadata": {},
     "output_type": "execute_result"
    }
   ],
   "source": [
    "import wandb\r\n",
    "wandb.login()"
   ]
  },
  {
   "cell_type": "code",
   "execution_count": 4,
   "metadata": {},
   "outputs": [],
   "source": [
    "device = torch.device(\"cuda\" if torch.cuda.is_available() else \"cpu\")"
   ]
  },
  {
   "cell_type": "markdown",
   "metadata": {},
   "source": [
    "# DATASET"
   ]
  },
  {
   "cell_type": "code",
   "execution_count": 5,
   "metadata": {},
   "outputs": [],
   "source": [
    "\r\n",
    "training_data = datasets.FashionMNIST(\r\n",
    "    root=\"data\",\r\n",
    "    train=True,\r\n",
    "    download=True,\r\n",
    "    transform=ToTensor()\r\n",
    ")\r\n",
    "\r\n",
    "test_data = datasets.FashionMNIST(\r\n",
    "    root=\"data\",\r\n",
    "    train=False,\r\n",
    "    download=True,\r\n",
    "    transform=ToTensor()\r\n",
    ")\r\n",
    "\r\n",
    "train_dataloader = DataLoader(training_data, batch_size=64)\r\n",
    "test_dataloader = DataLoader(test_data, batch_size=64)\r\n"
   ]
  },
  {
   "cell_type": "markdown",
   "metadata": {},
   "source": [
    "# LINEAR NEURAL NET"
   ]
  },
  {
   "cell_type": "code",
   "execution_count": 6,
   "metadata": {},
   "outputs": [
    {
     "data": {
      "text/plain": [
       "NeuralNetwork(\n",
       "  (flatten): Flatten(start_dim=1, end_dim=-1)\n",
       "  (linear_relu_stack): Sequential(\n",
       "    (0): Linear(in_features=784, out_features=512, bias=True)\n",
       "    (1): ReLU()\n",
       "    (2): Dropout(p=0.25, inplace=False)\n",
       "    (3): Linear(in_features=512, out_features=512, bias=True)\n",
       "    (4): ReLU()\n",
       "    (5): Dropout(p=0.25, inplace=False)\n",
       "    (6): Linear(in_features=512, out_features=10, bias=True)\n",
       "    (7): ReLU()\n",
       "  )\n",
       ")"
      ]
     },
     "execution_count": 6,
     "metadata": {},
     "output_type": "execute_result"
    }
   ],
   "source": [
    "class NeuralNetwork(nn.Module):\r\n",
    "    def __init__(self):\r\n",
    "        super(NeuralNetwork, self).__init__()\r\n",
    "        self.flatten = nn.Flatten()\r\n",
    "        self.linear_relu_stack = nn.Sequential(\r\n",
    "            nn.Linear(28*28, 512),\r\n",
    "            nn.ReLU(),\r\n",
    "            nn.Dropout(p=0.25),\r\n",
    "            nn.Linear(512, 512),\r\n",
    "            nn.ReLU(),\r\n",
    "            nn.Dropout(p=0.25),\r\n",
    "            nn.Linear(512, 10),\r\n",
    "            nn.ReLU()\r\n",
    "        )\r\n",
    "\r\n",
    "    def forward(self, x):\r\n",
    "        x = self.flatten(x)\r\n",
    "        logits = self.linear_relu_stack(x)\r\n",
    "        return logits\r\n",
    "\r\n",
    "model = NeuralNetwork()\r\n",
    "model.to(device)\r\n",
    "model"
   ]
  },
  {
   "cell_type": "markdown",
   "metadata": {},
   "source": [
    "#  CONVOLUTION NEURAL NETWORK"
   ]
  },
  {
   "cell_type": "markdown",
   "metadata": {},
   "source": [
    "class ConvNet(nn.Module):\r\n",
    "    def __init__(self, input_shape=(1,28,28)):\r\n",
    "        super(ConvNet, self).__init__()\r\n",
    "\r\n",
    "        # DEFINE THE CONVOLUTION LAYERS\r\n",
    "\r\n",
    "        self.conv1 = nn.Conv2d(1, 32, 3)\r\n",
    "        self.conv2 = nn.Conv2d(32, 64,3)\r\n",
    "        self.conv3 = nn.Conv2d(64, 128, 3)\r\n",
    "\r\n",
    "        # DEFINE THE POOLING LATER\r\n",
    "\r\n",
    "        self.pool = nn.MaxPool2d(2, 2)\r\n",
    "\r\n",
    "        n_size = self._get_conv_output(input_shape)\r\n",
    "\r\n",
    "        # DEFINE THE LINEAR CLASSS\r\n",
    "\r\n",
    "        self.fc1 = nn.Linear(n_size, 512)\r\n",
    "        self.fc2 = nn.Linear(512, 10)\r\n",
    "\r\n",
    "        # DEFINE THE DROPOUT\r\n",
    "        self.dropout = nn.Dropout(p=0.25)\r\n",
    "\r\n",
    "    def _get_conv_output(self, shape):\r\n",
    "        batch_size = 1\r\n",
    "        input = torch.autograd.Variable(torch.rand(batch_size, *shape))\r\n",
    "        output_feat = self._forward_features(input)\r\n",
    "        n_size = output_feat.data.view(batch_size, -1).size(1)\r\n",
    "        return n_size\r\n",
    "\r\n",
    "    def _forward_features(self, X):\r\n",
    "        X = self.pool(F.relu(self.conv1(X)))\r\n",
    "        X = self.pool(F.relu(self.conv2(X)))\r\n",
    "        X = self.pool(F.relu(self.conv3(X)))\r\n",
    "        return X\r\n",
    "\r\n",
    "    def forward(self, X):\r\n",
    "        X = self._forward_features(X)\r\n",
    "        X = X.view(X.size(0), -1)\r\n",
    "        X = self.dropout(X) # DROPOUT\r\n",
    "        X = F.relu(self.fc1(X))\r\n",
    "        X = self.dropout(X) # DROPOUT\r\n",
    "        X = self.fc2(X)\r\n",
    "        return X\r\n",
    "        \r\n",
    "model = ConvNet()\r\n",
    "\r\n",
    "# PUSH MODEL TO DEVICE(CUDA)\r\n",
    "model.to(device)\r\n",
    "print(model)"
   ]
  },
  {
   "cell_type": "markdown",
   "metadata": {},
   "source": [
    "# HYPERPARAMETERS"
   ]
  },
  {
   "cell_type": "code",
   "execution_count": 7,
   "metadata": {},
   "outputs": [],
   "source": [
    "config = dict(learning_rate = 1e-3,\r\n",
    "                batch_size = 64,\r\n",
    "                epochs = 10\r\n",
    "                )"
   ]
  },
  {
   "cell_type": "code",
   "execution_count": 11,
   "metadata": {},
   "outputs": [
    {
     "name": "stdout",
     "output_type": "stream",
     "text": [
      "learning_rate: 0.001\n",
      "batch_size: 64\n",
      "epochs: 10\n"
     ]
    }
   ],
   "source": [
    "for k, v in config.items():\r\n",
    "    print(f\"{k}: {v}\")"
   ]
  },
  {
   "cell_type": "markdown",
   "metadata": {},
   "source": [
    "# TRAINING"
   ]
  },
  {
   "cell_type": "code",
   "execution_count": 12,
   "metadata": {},
   "outputs": [],
   "source": [
    "def train_loop(dataloader, model, loss_fn, optimizer):\r\n",
    "    size = len(dataloader.dataset)\r\n",
    "    for batch, (X, y) in enumerate(dataloader):\r\n",
    "        X, y = X.to(device), y.to(device)\r\n",
    "        # Compute prediction and loss\r\n",
    "        pred = model(X)\r\n",
    "        loss = loss_fn(pred, y)\r\n",
    "\r\n",
    "        # Backpropagation\r\n",
    "        optimizer.zero_grad()\r\n",
    "        loss.backward()\r\n",
    "        optimizer.step()\r\n",
    "\r\n",
    "        if batch % 100 == 0:\r\n",
    "            loss, current = loss.item(), batch * len(X)\r\n",
    "            print(f\"loss: {loss:>3f}  [{current:>5d}/{size:>5d}]\")\r\n",
    "\r\n",
    "\r\n",
    "def test_loop(dataloader, model, loss_fn):\r\n",
    "    size = len(dataloader.dataset)\r\n",
    "    num_batches = len(dataloader)\r\n",
    "    test_loss, correct = 0, 0\r\n",
    "\r\n",
    "    with torch.no_grad():\r\n",
    "        for X, y in dataloader:\r\n",
    "            X, y = X.to(device), y.to(device)\r\n",
    "            pred = model(X)\r\n",
    "            test_loss += loss_fn(pred, y).item()\r\n",
    "            correct += (pred.argmax(1) == y).type(torch.float).sum().item()\r\n",
    "\r\n",
    "    test_loss /= num_batches\r\n",
    "    correct /= size\r\n",
    "    print(f\"Test Metrics: \\n Accuracy: {(100*correct):>0.1f}%, Test loss: {test_loss:>8f} \\n\")\r\n",
    "    wandb.log({\"Accuracy\":correct, \"Loss\": test_loss})"
   ]
  },
  {
   "cell_type": "code",
   "execution_count": 16,
   "metadata": {},
   "outputs": [],
   "source": [
    "# define loss and optimizer\r\n",
    "\r\n",
    "#loss_fn = nn.NLLLoss()\r\n",
    "loss_fn = nn.CrossEntropyLoss()\r\n",
    "#optimizer = torch.optim.SGD(model.parameters(), lr=learning_rate)\r\n",
    "#optimizer = torch.optim.Adam(model.parameters(), lr=learning_rate)\r\n",
    "optimizer = torch.optim.Adagrad(model.parameters(), lr=config.get(\"learning_rate\"))\r\n"
   ]
  },
  {
   "cell_type": "code",
   "execution_count": 17,
   "metadata": {},
   "outputs": [
    {
     "name": "stdout",
     "output_type": "stream",
     "text": [
      "Epoch 1\n",
      "-------------------------------\n",
      "loss: 2.304126  [    0/60000]\n",
      "loss: 0.992400  [ 6400/60000]\n",
      "loss: 0.589247  [12800/60000]\n",
      "loss: 0.803628  [19200/60000]\n",
      "loss: 0.663909  [25600/60000]\n",
      "loss: 0.614117  [32000/60000]\n",
      "loss: 0.611885  [38400/60000]\n",
      "loss: 0.744644  [44800/60000]\n",
      "loss: 0.690500  [51200/60000]\n",
      "loss: 0.621284  [57600/60000]\n",
      "Test Metrics: \n",
      " Accuracy: 79.0%, Test loss: 0.590438 \n",
      "\n",
      "Epoch 2\n",
      "-------------------------------\n",
      "loss: 0.539751  [    0/60000]\n",
      "loss: 0.592269  [ 6400/60000]\n",
      "loss: 0.379464  [12800/60000]\n",
      "loss: 0.606023  [19200/60000]\n",
      "loss: 0.579316  [25600/60000]\n",
      "loss: 0.509710  [32000/60000]\n",
      "loss: 0.529445  [38400/60000]\n",
      "loss: 0.641242  [44800/60000]\n",
      "loss: 0.673934  [51200/60000]\n",
      "loss: 0.588638  [57600/60000]\n",
      "Test Metrics: \n",
      " Accuracy: 81.4%, Test loss: 0.537255 \n",
      "\n",
      "Epoch 3\n",
      "-------------------------------\n",
      "loss: 0.457106  [    0/60000]\n",
      "loss: 0.533122  [ 6400/60000]\n",
      "loss: 0.361571  [12800/60000]\n",
      "loss: 0.603201  [19200/60000]\n",
      "loss: 0.542803  [25600/60000]\n",
      "loss: 0.459187  [32000/60000]\n",
      "loss: 0.550997  [38400/60000]\n",
      "loss: 0.638343  [44800/60000]\n",
      "loss: 0.602991  [51200/60000]\n",
      "loss: 0.538785  [57600/60000]\n",
      "Test Metrics: \n",
      " Accuracy: 82.0%, Test loss: 0.509434 \n",
      "\n",
      "Epoch 4\n",
      "-------------------------------\n",
      "loss: 0.421164  [    0/60000]\n",
      "loss: 0.479433  [ 6400/60000]\n",
      "loss: 0.392445  [12800/60000]\n",
      "loss: 0.544891  [19200/60000]\n",
      "loss: 0.537641  [25600/60000]\n",
      "loss: 0.454627  [32000/60000]\n",
      "loss: 0.510263  [38400/60000]\n",
      "loss: 0.688330  [44800/60000]\n",
      "loss: 0.653816  [51200/60000]\n",
      "loss: 0.504317  [57600/60000]\n",
      "Test Metrics: \n",
      " Accuracy: 82.2%, Test loss: 0.500213 \n",
      "\n",
      "Epoch 5\n",
      "-------------------------------\n",
      "loss: 0.389262  [    0/60000]\n",
      "loss: 0.493113  [ 6400/60000]\n",
      "loss: 0.330071  [12800/60000]\n",
      "loss: 0.534668  [19200/60000]\n",
      "loss: 0.479290  [25600/60000]\n",
      "loss: 0.444605  [32000/60000]\n",
      "loss: 0.472303  [38400/60000]\n",
      "loss: 0.705379  [44800/60000]\n",
      "loss: 0.521493  [51200/60000]\n",
      "loss: 0.466850  [57600/60000]\n",
      "Test Metrics: \n",
      " Accuracy: 82.7%, Test loss: 0.487688 \n",
      "\n",
      "Epoch 6\n",
      "-------------------------------\n",
      "loss: 0.416461  [    0/60000]\n",
      "loss: 0.523722  [ 6400/60000]\n",
      "loss: 0.316937  [12800/60000]\n",
      "loss: 0.554486  [19200/60000]\n",
      "loss: 0.442489  [25600/60000]\n",
      "loss: 0.458400  [32000/60000]\n",
      "loss: 0.429276  [38400/60000]\n",
      "loss: 0.720625  [44800/60000]\n",
      "loss: 0.584033  [51200/60000]\n",
      "loss: 0.479427  [57600/60000]\n",
      "Test Metrics: \n",
      " Accuracy: 83.2%, Test loss: 0.478888 \n",
      "\n",
      "Epoch 7\n",
      "-------------------------------\n",
      "loss: 0.351951  [    0/60000]\n",
      "loss: 0.457764  [ 6400/60000]\n",
      "loss: 0.315892  [12800/60000]\n",
      "loss: 0.515241  [19200/60000]\n",
      "loss: 0.430717  [25600/60000]\n",
      "loss: 0.451583  [32000/60000]\n",
      "loss: 0.455671  [38400/60000]\n",
      "loss: 0.675421  [44800/60000]\n",
      "loss: 0.564918  [51200/60000]\n",
      "loss: 0.493503  [57600/60000]\n",
      "Test Metrics: \n",
      " Accuracy: 83.6%, Test loss: 0.468452 \n",
      "\n",
      "Epoch 8\n",
      "-------------------------------\n",
      "loss: 0.347280  [    0/60000]\n",
      "loss: 0.461918  [ 6400/60000]\n",
      "loss: 0.290931  [12800/60000]\n",
      "loss: 0.525302  [19200/60000]\n",
      "loss: 0.392185  [25600/60000]\n",
      "loss: 0.443206  [32000/60000]\n",
      "loss: 0.443560  [38400/60000]\n",
      "loss: 0.653908  [44800/60000]\n",
      "loss: 0.489947  [51200/60000]\n",
      "loss: 0.467005  [57600/60000]\n",
      "Test Metrics: \n",
      " Accuracy: 83.6%, Test loss: 0.463754 \n",
      "\n",
      "Epoch 9\n",
      "-------------------------------\n",
      "loss: 0.325287  [    0/60000]\n",
      "loss: 0.432656  [ 6400/60000]\n",
      "loss: 0.296213  [12800/60000]\n",
      "loss: 0.482609  [19200/60000]\n",
      "loss: 0.411678  [25600/60000]\n",
      "loss: 0.437325  [32000/60000]\n",
      "loss: 0.418197  [38400/60000]\n",
      "loss: 0.650916  [44800/60000]\n",
      "loss: 0.609103  [51200/60000]\n",
      "loss: 0.479588  [57600/60000]\n",
      "Test Metrics: \n",
      " Accuracy: 84.3%, Test loss: 0.458482 \n",
      "\n",
      "Epoch 10\n",
      "-------------------------------\n",
      "loss: 0.311627  [    0/60000]\n",
      "loss: 0.429044  [ 6400/60000]\n",
      "loss: 0.320899  [12800/60000]\n",
      "loss: 0.434844  [19200/60000]\n",
      "loss: 0.412920  [25600/60000]\n",
      "loss: 0.419779  [32000/60000]\n",
      "loss: 0.397825  [38400/60000]\n",
      "loss: 0.627061  [44800/60000]\n",
      "loss: 0.534560  [51200/60000]\n",
      "loss: 0.438469  [57600/60000]\n",
      "Test Metrics: \n",
      " Accuracy: 84.0%, Test loss: 0.455194 \n",
      "\n",
      "Done!\n",
      "Wall time: 1min 3s\n"
     ]
    }
   ],
   "source": [
    "%%time\r\n",
    "epochs = 10\r\n",
    "for t in range(epochs):\r\n",
    "    with wandb.init(project=\"demo_wandb_fashionmnsit_test\", config=config):\r\n",
    "        wandb.watch(model, criterion=loss_fn, log=\"all\", log_freq=10)\r\n",
    "        #%%time\r\n",
    "        print(f\"Epoch {t+1}\\n-------------------------------\")\r\n",
    "        train_loop(train_dataloader, model, loss_fn, optimizer)\r\n",
    "        test_loop(test_dataloader, model, loss_fn)\r\n",
    "    wand.save(torch.save(model.state_dict(), f=f\"./models/fashion_mnsit_{t}.pt\"))\r\n",
    "print(\"Done!\")\r\n"
   ]
  },
  {
   "cell_type": "code",
   "execution_count": null,
   "metadata": {},
   "outputs": [],
   "source": []
  }
 ],
 "metadata": {
  "interpreter": {
   "hash": "778de6fd147bda85163a324ce7339acfc1c656b45f8b8593316159881a238432"
  },
  "kernelspec": {
   "display_name": "Python 3.8.6 64-bit ('torch-venv': venv)",
   "name": "python3"
  },
  "language_info": {
   "codemirror_mode": {
    "name": "ipython",
    "version": 3
   },
   "file_extension": ".py",
   "mimetype": "text/x-python",
   "name": "python",
   "nbconvert_exporter": "python",
   "pygments_lexer": "ipython3",
   "version": "3.8.6"
  },
  "orig_nbformat": 4
 },
 "nbformat": 4,
 "nbformat_minor": 2
}