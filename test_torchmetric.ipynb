{
 "cells": [
  {
   "cell_type": "code",
   "execution_count": 4,
   "metadata": {},
   "outputs": [
    {
     "name": "stdout",
     "output_type": "stream",
     "text": [
      "Accuracy on batch 0: 10.0%\n",
      "Accuracy on batch 1: 20.0%\n",
      "Accuracy on batch 2: 30.000001907348633%\n",
      "Accuracy on batch 3: 10.0%\n",
      "Accuracy on batch 4: 20.0%\n",
      "Accuracy on batch 5: 20.0%\n",
      "Accuracy on batch 6: 10.0%\n",
      "Accuracy on batch 7: 10.0%\n",
      "Accuracy on batch 8: 10.0%\n",
      "Accuracy on batch 9: 40.0%\n",
      "Accuracy on all data: 18.0%\n"
     ]
    }
   ],
   "source": [
    "import torch\r\n",
    "import torchmetrics\r\n",
    "\r\n",
    "# initialize metric\r\n",
    "metric = torchmetrics.Accuracy()\r\n",
    "\r\n",
    "n_batches = 10\r\n",
    "for i in range(n_batches):\r\n",
    "    # simulate a classification problem\r\n",
    "    preds = torch.randn(10, 5).softmax(dim=-1)\r\n",
    "    target = torch.randint(5, (10,))\r\n",
    "    # metric on current batch\r\n",
    "    acc = metric(preds, target)\r\n",
    "    print(f\"Accuracy on batch {i}: {acc*100}%\")\r\n",
    "\r\n",
    "# metric on all batches using custom accumulation\r\n",
    "acc = metric.compute()\r\n",
    "print(f\"Accuracy on all data: {acc * 100}%\")"
   ]
  },
  {
   "cell_type": "code",
   "execution_count": null,
   "metadata": {},
   "outputs": [],
   "source": []
  }
 ],
 "metadata": {
  "interpreter": {
   "hash": "778de6fd147bda85163a324ce7339acfc1c656b45f8b8593316159881a238432"
  },
  "kernelspec": {
   "display_name": "Python 3.8.6 64-bit ('torch-venv': venv)",
   "name": "python3"
  },
  "language_info": {
   "codemirror_mode": {
    "name": "ipython",
    "version": 3
   },
   "file_extension": ".py",
   "mimetype": "text/x-python",
   "name": "python",
   "nbconvert_exporter": "python",
   "pygments_lexer": "ipython3",
   "version": "3.8.6"
  },
  "orig_nbformat": 4
 },
 "nbformat": 4,
 "nbformat_minor": 2
}