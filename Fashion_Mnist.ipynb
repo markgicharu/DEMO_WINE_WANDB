{
 "cells": [
  {
   "cell_type": "markdown",
   "metadata": {},
   "source": [
    "# LIBRARIES"
   ]
  },
  {
   "cell_type": "code",
   "execution_count": 1,
   "metadata": {},
   "outputs": [],
   "source": [
    "import torch\r\n",
    "from torch import nn\r\n",
    "import torch.nn.functional as F\r\n",
    "from torch.utils.data import DataLoader\r\n",
    "from torchvision import datasets\r\n",
    "from torchvision.transforms import ToTensor, Lambda\r\n",
    "from torch import optim\r\n",
    "\r\n",
    "import numpy as np"
   ]
  },
  {
   "cell_type": "code",
   "execution_count": 16,
   "metadata": {},
   "outputs": [],
   "source": [
    "device = torch.device(\"cuda\" if torch.cuda.is_available() else \"cpu\")"
   ]
  },
  {
   "cell_type": "markdown",
   "metadata": {},
   "source": [
    "# DATASET"
   ]
  },
  {
   "cell_type": "code",
   "execution_count": 2,
   "metadata": {},
   "outputs": [],
   "source": [
    "\r\n",
    "training_data = datasets.FashionMNIST(\r\n",
    "    root=\"data\",\r\n",
    "    train=True,\r\n",
    "    download=True,\r\n",
    "    transform=ToTensor()\r\n",
    ")\r\n",
    "\r\n",
    "test_data = datasets.FashionMNIST(\r\n",
    "    root=\"data\",\r\n",
    "    train=False,\r\n",
    "    download=True,\r\n",
    "    transform=ToTensor()\r\n",
    ")\r\n",
    "\r\n",
    "train_dataloader = DataLoader(training_data, batch_size=64)\r\n",
    "test_dataloader = DataLoader(test_data, batch_size=64)\r\n",
    "\r\n"
   ]
  },
  {
   "cell_type": "markdown",
   "metadata": {},
   "source": [
    "# LINEAR NEURAL NET"
   ]
  },
  {
   "cell_type": "markdown",
   "metadata": {},
   "source": [
    "class NeuralNetwork(nn.Module):\r\n",
    "    def __init__(self):\r\n",
    "        super(NeuralNetwork, self).__init__()\r\n",
    "        self.flatten = nn.Flatten()\r\n",
    "        self.linear_relu_stack = nn.Sequential(\r\n",
    "            nn.Linear(28*28, 512),\r\n",
    "            nn.ReLU(),\r\n",
    "            nn.Linear(512, 512),\r\n",
    "            nn.ReLU(),\r\n",
    "            nn.Linear(512, 10),\r\n",
    "            nn.ReLU()\r\n",
    "        )\r\n",
    "\r\n",
    "    def forward(self, x):\r\n",
    "        x = self.flatten(x)\r\n",
    "        logits = self.linear_relu_stack(x)\r\n",
    "        return logits\r\n",
    "\r\n",
    "model = NeuralNetwork()\r\n",
    "model"
   ]
  },
  {
   "cell_type": "markdown",
   "metadata": {},
   "source": [
    "#  CONVOLUTION NEURAL NETWORK"
   ]
  },
  {
   "cell_type": "code",
   "execution_count": 10,
   "metadata": {},
   "outputs": [
    {
     "name": "stdout",
     "output_type": "stream",
     "text": [
      "ConvNet(\n",
      "  (conv1): Conv2d(1, 32, kernel_size=(3, 3), stride=(1, 1))\n",
      "  (conv2): Conv2d(32, 64, kernel_size=(3, 3), stride=(1, 1))\n",
      "  (conv3): Conv2d(64, 128, kernel_size=(3, 3), stride=(1, 1))\n",
      "  (pool): MaxPool2d(kernel_size=2, stride=2, padding=0, dilation=1, ceil_mode=False)\n",
      "  (fc1): Linear(in_features=128, out_features=512, bias=True)\n",
      "  (fc2): Linear(in_features=512, out_features=10, bias=True)\n",
      ")\n"
     ]
    }
   ],
   "source": [
    "class ConvNet(nn.Module):\r\n",
    "    def __init__(self, input_shape=(1,28,28)):\r\n",
    "        super(ConvNet, self).__init__()\r\n",
    "\r\n",
    "        # DEFINE THE CONVOLUTION LAYERS\r\n",
    "\r\n",
    "        self.conv1 = nn.Conv2d(1, 32, 3)\r\n",
    "        self.conv2 = nn.Conv2d(32, 64,3)\r\n",
    "        self.conv3 = nn.Conv2d(64, 128, 3)\r\n",
    "\r\n",
    "        # DEFINE THE POOLING LATER\r\n",
    "\r\n",
    "        self.pool = nn.MaxPool2d(2, 2)\r\n",
    "\r\n",
    "        n_size = self._get_conv_output(input_shape)\r\n",
    "\r\n",
    "        # DEFINE THE LINEAR CLASSS\r\n",
    "\r\n",
    "        self.fc1 = nn.Linear(n_size, 512)\r\n",
    "        self.fc2 = nn.Linear(512, 10)\r\n",
    "\r\n",
    "    def _get_conv_output(self, shape):\r\n",
    "        batch_size = 1\r\n",
    "        input = torch.autograd.Variable(torch.rand(batch_size, *shape))\r\n",
    "        output_feat = self._forward_features(input)\r\n",
    "        n_size = output_feat.data.view(batch_size, -1).size(1)\r\n",
    "        return n_size\r\n",
    "\r\n",
    "    def _forward_features(self, X):\r\n",
    "        X = self.pool(F.relu(self.conv1(X)))\r\n",
    "        X = self.pool(F.relu(self.conv2(X)))\r\n",
    "        X = self.pool(F.relu(self.conv3(X)))\r\n",
    "        return X\r\n",
    "\r\n",
    "    def forward(self, X):\r\n",
    "        X = self._forward_features(X)\r\n",
    "        X = X.view(X.size(0), -1)\r\n",
    "        X = F.relu(self.fc1(X))\r\n",
    "        X = self.fc2(X)\r\n",
    "        return X\r\n",
    "model = ConvNet()\r\n",
    "model.to(device)\r\n",
    "print(model)\r\n",
    "\r\n",
    "#loss = nn.CrossEntropyLoss()\r\n",
    "#optimizer = optim.Adam(net.parameters())\r\n",
    "\r\n"
   ]
  },
  {
   "cell_type": "markdown",
   "metadata": {},
   "source": [
    "# HYPERPARAMETERS"
   ]
  },
  {
   "cell_type": "code",
   "execution_count": 11,
   "metadata": {},
   "outputs": [],
   "source": [
    "learning_rate = 1e-3\r\n",
    "batch_size = 64\r\n",
    "epochs = 5"
   ]
  },
  {
   "cell_type": "markdown",
   "metadata": {},
   "source": [
    "# LOSS FUNCTION"
   ]
  },
  {
   "cell_type": "code",
   "execution_count": 12,
   "metadata": {},
   "outputs": [],
   "source": [
    "\r\n",
    "loss_fn = nn.CrossEntropyLoss()"
   ]
  },
  {
   "cell_type": "markdown",
   "metadata": {},
   "source": [
    "# OPTIMIZER"
   ]
  },
  {
   "cell_type": "code",
   "execution_count": 13,
   "metadata": {},
   "outputs": [],
   "source": [
    "optimizer = torch.optim.SGD(model.parameters(), lr=learning_rate)"
   ]
  },
  {
   "cell_type": "markdown",
   "metadata": {},
   "source": [
    "# TRAINING"
   ]
  },
  {
   "cell_type": "code",
   "execution_count": 14,
   "metadata": {},
   "outputs": [],
   "source": [
    "def train_loop(dataloader, model, loss_fn, optimizer):\r\n",
    "    size = len(dataloader.dataset)\r\n",
    "    for batch, (X, y) in enumerate(dataloader):\r\n",
    "        # Compute prediction and loss\r\n",
    "        pred = model(X)\r\n",
    "        loss = loss_fn(pred, y)\r\n",
    "\r\n",
    "        # Backpropagation\r\n",
    "        optimizer.zero_grad()\r\n",
    "        loss.backward()\r\n",
    "        optimizer.step()\r\n",
    "\r\n",
    "        if batch % 100 == 0:\r\n",
    "            loss, current = loss.item(), batch * len(X)\r\n",
    "            print(f\"loss: {loss:>3f}  [{current:>5d}/{size:>5d}]\")\r\n",
    "\r\n",
    "\r\n",
    "def test_loop(dataloader, model, loss_fn):\r\n",
    "    size = len(dataloader.dataset)\r\n",
    "    num_batches = len(dataloader)\r\n",
    "    test_loss, correct = 0, 0\r\n",
    "\r\n",
    "    with torch.no_grad():\r\n",
    "        for X, y in dataloader:\r\n",
    "            pred = model(X)\r\n",
    "            test_loss += loss_fn(pred, y).item()\r\n",
    "            correct += (pred.argmax(1) == y).type(torch.float).sum().item()\r\n",
    "\r\n",
    "    test_loss /= num_batches\r\n",
    "    correct /= size\r\n",
    "    print(f\"Test Metrics: \\n Accuracy: {(100*correct):>0.1f}%, Test loss: {test_loss:>8f} \\n\")"
   ]
  },
  {
   "cell_type": "code",
   "execution_count": 15,
   "metadata": {},
   "outputs": [
    {
     "name": "stdout",
     "output_type": "stream",
     "text": [
      "Epoch 1\n",
      "-------------------------------\n",
      "loss: 2.302054  [    0/60000]\n",
      "loss: 2.305269  [ 6400/60000]\n",
      "loss: 2.300631  [12800/60000]\n",
      "loss: 2.298966  [19200/60000]\n",
      "loss: 2.299102  [25600/60000]\n",
      "loss: 2.294599  [32000/60000]\n",
      "loss: 2.297127  [38400/60000]\n",
      "loss: 2.291424  [44800/60000]\n",
      "loss: 2.293116  [51200/60000]\n",
      "loss: 2.296901  [57600/60000]\n",
      "Test Error: \n",
      " Accuracy: 10.5%, Avg loss: 2.293811 \n",
      "\n",
      "Epoch 2\n",
      "-------------------------------\n",
      "loss: 2.294776  [    0/60000]\n",
      "loss: 2.296739  [ 6400/60000]\n",
      "loss: 2.291722  [12800/60000]\n",
      "loss: 2.291606  [19200/60000]\n",
      "loss: 2.292606  [25600/60000]\n",
      "loss: 2.284849  [32000/60000]\n",
      "loss: 2.289898  [38400/60000]\n",
      "loss: 2.282740  [44800/60000]\n",
      "loss: 2.284348  [51200/60000]\n",
      "loss: 2.286742  [57600/60000]\n",
      "Test Error: \n",
      " Accuracy: 19.8%, Avg loss: 2.282802 \n",
      "\n",
      "Epoch 3\n",
      "-------------------------------\n",
      "loss: 2.285632  [    0/60000]\n",
      "loss: 2.286147  [ 6400/60000]\n",
      "loss: 2.278996  [12800/60000]\n",
      "loss: 2.279516  [19200/60000]\n",
      "loss: 2.283044  [25600/60000]\n",
      "loss: 2.268442  [32000/60000]\n",
      "loss: 2.276722  [38400/60000]\n",
      "loss: 2.266816  [44800/60000]\n",
      "loss: 2.267492  [51200/60000]\n",
      "loss: 2.267218  [57600/60000]\n",
      "Test Error: \n",
      " Accuracy: 26.9%, Avg loss: 2.262677 \n",
      "\n",
      "Epoch 4\n",
      "-------------------------------\n",
      "loss: 2.268116  [    0/60000]\n",
      "loss: 2.267083  [ 6400/60000]\n",
      "loss: 2.255672  [12800/60000]\n",
      "loss: 2.255536  [19200/60000]\n",
      "loss: 2.261263  [25600/60000]\n",
      "loss: 2.234280  [32000/60000]\n",
      "loss: 2.244628  [38400/60000]\n",
      "loss: 2.230846  [44800/60000]\n",
      "loss: 2.227709  [51200/60000]\n",
      "loss: 2.217948  [57600/60000]\n",
      "Test Error: \n",
      " Accuracy: 35.0%, Avg loss: 2.215794 \n",
      "\n",
      "Epoch 5\n",
      "-------------------------------\n",
      "loss: 2.225494  [    0/60000]\n",
      "loss: 2.221061  [ 6400/60000]\n",
      "loss: 2.200148  [12800/60000]\n",
      "loss: 2.195347  [19200/60000]\n",
      "loss: 2.198689  [25600/60000]\n",
      "loss: 2.149821  [32000/60000]\n",
      "loss: 2.152577  [38400/60000]\n",
      "loss: 2.133468  [44800/60000]\n",
      "loss: 2.117261  [51200/60000]\n",
      "loss: 2.070177  [57600/60000]\n",
      "Test Error: \n",
      " Accuracy: 40.2%, Avg loss: 2.079482 \n",
      "\n",
      "Epoch 6\n",
      "-------------------------------\n",
      "loss: 2.099109  [    0/60000]\n",
      "loss: 2.078139  [ 6400/60000]\n",
      "loss: 2.025057  [12800/60000]\n",
      "loss: 1.997961  [19200/60000]\n",
      "loss: 1.965358  [25600/60000]\n",
      "loss: 1.880058  [32000/60000]\n",
      "loss: 1.826869  [38400/60000]\n",
      "loss: 1.802291  [44800/60000]\n",
      "loss: 1.758795  [51200/60000]\n",
      "loss: 1.608122  [57600/60000]\n",
      "Test Error: \n",
      " Accuracy: 46.2%, Avg loss: 1.654085 \n",
      "\n",
      "Epoch 7\n",
      "-------------------------------\n",
      "loss: 1.703245  [    0/60000]\n",
      "loss: 1.636515  [ 6400/60000]\n",
      "loss: 1.509009  [12800/60000]\n",
      "loss: 1.487462  [19200/60000]\n",
      "loss: 1.426865  [25600/60000]\n",
      "loss: 1.390450  [32000/60000]\n",
      "loss: 1.347772  [38400/60000]\n",
      "loss: 1.326012  [44800/60000]\n",
      "loss: 1.305612  [51200/60000]\n",
      "loss: 1.210709  [57600/60000]\n",
      "Test Error: \n",
      " Accuracy: 56.0%, Avg loss: 1.243418 \n",
      "\n",
      "Epoch 8\n",
      "-------------------------------\n",
      "loss: 1.301785  [    0/60000]\n",
      "loss: 1.246756  [ 6400/60000]\n",
      "loss: 1.094714  [12800/60000]\n",
      "loss: 1.183154  [19200/60000]\n",
      "loss: 1.174910  [25600/60000]\n",
      "loss: 1.169131  [32000/60000]\n",
      "loss: 1.162432  [38400/60000]\n",
      "loss: 1.118031  [44800/60000]\n",
      "loss: 1.115813  [51200/60000]\n",
      "loss: 1.093591  [57600/60000]\n",
      "Test Error: \n",
      " Accuracy: 58.8%, Avg loss: 1.109715 \n",
      "\n",
      "Epoch 9\n",
      "-------------------------------\n",
      "loss: 1.149454  [    0/60000]\n",
      "loss: 1.110800  [ 6400/60000]\n",
      "loss: 0.945621  [12800/60000]\n",
      "loss: 1.095239  [19200/60000]\n",
      "loss: 1.109912  [25600/60000]\n",
      "loss: 1.080638  [32000/60000]\n",
      "loss: 1.075890  [38400/60000]\n",
      "loss: 1.015165  [44800/60000]\n",
      "loss: 1.012303  [51200/60000]\n",
      "loss: 1.040542  [57600/60000]\n",
      "Test Error: \n",
      " Accuracy: 60.9%, Avg loss: 1.040592 \n",
      "\n",
      "Epoch 10\n",
      "-------------------------------\n",
      "loss: 1.066248  [    0/60000]\n",
      "loss: 1.034988  [ 6400/60000]\n",
      "loss: 0.863861  [12800/60000]\n",
      "loss: 1.046509  [19200/60000]\n",
      "loss: 1.077997  [25600/60000]\n",
      "loss: 1.022961  [32000/60000]\n",
      "loss: 1.012402  [38400/60000]\n",
      "loss: 0.947440  [44800/60000]\n",
      "loss: 0.942683  [51200/60000]\n",
      "loss: 1.000077  [57600/60000]\n",
      "Test Error: \n",
      " Accuracy: 62.8%, Avg loss: 0.990396 \n",
      "\n",
      "Done!\n"
     ]
    }
   ],
   "source": [
    "loss_fn = nn.CrossEntropyLoss()\r\n",
    "optimizer = torch.optim.SGD(model.parameters(), lr=learning_rate)\r\n",
    "\r\n",
    "epochs = 10\r\n",
    "for t in range(epochs):\r\n",
    "    print(f\"Epoch {t+1}\\n-------------------------------\")\r\n",
    "    train_loop(train_dataloader, model, loss_fn, optimizer)\r\n",
    "    test_loop(test_dataloader, model, loss_fn)\r\n",
    "print(\"Done!\")"
   ]
  },
  {
   "cell_type": "code",
   "execution_count": null,
   "metadata": {},
   "outputs": [],
   "source": []
  }
 ],
 "metadata": {
  "interpreter": {
   "hash": "778de6fd147bda85163a324ce7339acfc1c656b45f8b8593316159881a238432"
  },
  "kernelspec": {
   "display_name": "Python 3.8.6 64-bit ('torch-venv': venv)",
   "name": "python3"
  },
  "language_info": {
   "codemirror_mode": {
    "name": "ipython",
    "version": 3
   },
   "file_extension": ".py",
   "mimetype": "text/x-python",
   "name": "python",
   "nbconvert_exporter": "python",
   "pygments_lexer": "ipython3",
   "version": "3.8.6"
  },
  "orig_nbformat": 4
 },
 "nbformat": 4,
 "nbformat_minor": 2
}